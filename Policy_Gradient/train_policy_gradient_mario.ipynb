{
 "cells": [
  {
   "cell_type": "code",
   "execution_count": 1,
   "metadata": {},
   "outputs": [],
   "source": [
    "import sys\n",
    "from itertools import count\n",
    "\n",
    "import cv2\n",
    "import gym_super_mario_bros\n",
    "from gym.wrappers import Monitor\n",
    "from gym_super_mario_bros.actions import SIMPLE_MOVEMENT, COMPLEX_MOVEMENT, RIGHT_ONLY\n",
    "from nes_py.wrappers import JoypadSpace\n",
    "\n",
    "import matplotlib.pyplot as plt\n",
    "import numpy as np\n",
    "import torch\n",
    "\n",
    "from policy_agent import Agent\n",
    "from wrappers import wrapper"
   ]
  },
  {
   "cell_type": "code",
   "execution_count": 2,
   "metadata": {},
   "outputs": [],
   "source": [
    "# env settings\n",
    "WORLD = 1\n",
    "STAGE = 1\n",
    "LEVEL_NAME = \"SuperMarioBros-{}-{}-v0\".format(WORLD, STAGE)\n",
    "FRAME_DIM = (84, 84, 4)     # (120, 128, 4)  # original image size is 240x256\n",
    "ACTION_SPACE = SIMPLE_MOVEMENT\n",
    "RENDER_GAME = True\n",
    "LOAD_MODEL = False\n",
    "CHECKPOINT_INTERVAL = 100\n",
    "MODEL_PATH = \"./saved_models/policy_gradient_model_world1-1\"  # to create a new model set it to \"\"\n",
    "\n",
    "# training hyperparameters\n",
    "TRAIN_MODEL = True\n",
    "LEARNING_RATE = 0.000007\n",
    "NUM_EPOCHS = 1_001\n",
    "GAMMA = 0.99\n",
    "\n",
    "LOG_INTERVAL = 1\n",
    "PLOT_INTERVAL = 50\n",
    "VIDEO_INTERVAL = 50"
   ]
  },
  {
   "cell_type": "code",
   "execution_count": 3,
   "metadata": {},
   "outputs": [
    {
     "name": "stdout",
     "output_type": "stream",
     "text": [
      "Available GPU: GeForce GTX 1050 Ti with Max-Q Design\n"
     ]
    }
   ],
   "source": [
    "DEVICE = torch.device(\"cuda\" if torch.cuda.is_available() else \"cpu\")\n",
    "if torch.cuda.is_available():\n",
    "    print(f\"Available GPU: {torch.cuda.get_device_name(0)}\")"
   ]
  },
  {
   "cell_type": "code",
   "execution_count": 4,
   "metadata": {},
   "outputs": [],
   "source": [
    "def create_environment():\n",
    "    \"\"\"Creates the environment, applies some wrappers and returns it.\"\"\"\n",
    "    tmp_env = gym_super_mario_bros.make(LEVEL_NAME)\n",
    "    tmp_env = JoypadSpace(tmp_env, ACTION_SPACE)\n",
    "    tmp_env = wrapper(tmp_env, FRAME_DIM)\n",
    "\n",
    "    return tmp_env"
   ]
  },
  {
   "cell_type": "code",
   "execution_count": 5,
   "metadata": {},
   "outputs": [],
   "source": [
    "def lazy_frame_to_tensor(lazy_frame):\n",
    "    # pytorch expects the frames as height x width x depth\n",
    "    return torch.from_numpy(\n",
    "        np.expand_dims(np.asarray(lazy_frame).astype(np.float64).transpose((2, 1, 0)), axis=0)).float().to(DEVICE)\n"
   ]
  },
  {
   "cell_type": "code",
   "execution_count": 6,
   "metadata": {},
   "outputs": [],
   "source": [
    "def plot_rewards(reward_list, reward_mean_history):\n",
    "    plt.figure(figsize=(12,6))\n",
    "    plt.plot(reward_list, \"#b300ff\", label = \"Reward History\")\n",
    "    plt.plot(reward_mean_history, \"#ff8c00\", label = \"Mean Reward History\")\n",
    "    plt.ylabel(\"Rewards\", fontsize = 18)\n",
    "    plt.xlabel(\"Episodes\",fontsize = 18)\n",
    "    plt.title(\"Reward Per Episode\", fontsize = 18)\n",
    "    plt.legend()\n",
    "    plt.show()\n"
   ]
  },
  {
   "cell_type": "code",
   "execution_count": 7,
   "metadata": {},
   "outputs": [],
   "source": [
    "def record_one_episode(agent, episode):\n",
    "    tmp_env = gym_super_mario_bros.make(LEVEL_NAME)\n",
    "    tmp_env = JoypadSpace(tmp_env, ACTION_SPACE)\n",
    "    tmp_env = Monitor(tmp_env, './video/video-episode-{0:05d}'.format(episode), force=True)\n",
    "    tmp_env = wrapper(tmp_env, FRAME_DIM)\n",
    "\n",
    "    state = lazy_frame_to_tensor(tmp_env.reset())\n",
    "\n",
    "    total_reward = 0\n",
    "    while True:\n",
    "        action, _ = agent.select_action_based_on_state(state)\n",
    "\n",
    "        next_state, reward, done, info = tmp_env.step(action)\n",
    "        next_state = lazy_frame_to_tensor(next_state)\n",
    "\n",
    "        if done:\n",
    "            break\n",
    "\n",
    "        total_reward += reward\n",
    "\n",
    "        state = next_state\n"
   ]
  },
  {
   "cell_type": "code",
   "execution_count": 8,
   "metadata": {},
   "outputs": [],
   "source": [
    "env = create_environment()\n",
    "\n",
    "agent = Agent(env.action_space.n, FRAME_DIM, LEARNING_RATE, GAMMA, DEVICE, MODEL_PATH)\n",
    "if LOAD_MODEL:\n",
    "    agent.load_model(model_path=MODEL_PATH)\n",
    "\n",
    "if not TRAIN_MODEL:\n",
    "    record_one_episode(agent)\n",
    "    sys.exit()"
   ]
  },
  {
   "cell_type": "code",
   "execution_count": 9,
   "metadata": {
    "scrolled": false
   },
   "outputs": [
    {
     "name": "stdout",
     "output_type": "stream",
     "text": [
      "Episode 1\tLast Reward: 215.00\tAverage reward: 0.00\tLoss: 1.11\n"
     ]
    },
    {
     "ename": "RuntimeError",
     "evalue": "CUDA out of memory. Tried to allocate 172.00 MiB (GPU 0; 4.00 GiB total capacity; 2.63 GiB already allocated; 142.38 MiB free; 2.78 GiB reserved in total by PyTorch) (malloc at ..\\c10\\cuda\\CUDACachingAllocator.cpp:289)\n(no backtrace available)",
     "output_type": "error",
     "traceback": [
      "\u001b[1;31m---------------------------------------------------------------------------\u001b[0m",
      "\u001b[1;31mRuntimeError\u001b[0m                              Traceback (most recent call last)",
      "\u001b[1;32m<ipython-input-9-914ea099c058>\u001b[0m in \u001b[0;36m<module>\u001b[1;34m()\u001b[0m\n\u001b[0;32m     50\u001b[0m         \u001b[0mlast_reward\u001b[0m \u001b[1;33m+=\u001b[0m \u001b[0mreward\u001b[0m\u001b[1;33m\u001b[0m\u001b[1;33m\u001b[0m\u001b[0m\n\u001b[0;32m     51\u001b[0m \u001b[1;33m\u001b[0m\u001b[0m\n\u001b[1;32m---> 52\u001b[1;33m     \u001b[0mloss\u001b[0m \u001b[1;33m=\u001b[0m \u001b[0magent\u001b[0m\u001b[1;33m.\u001b[0m\u001b[0mupdate\u001b[0m\u001b[1;33m(\u001b[0m\u001b[0mstep_log_prob_history\u001b[0m\u001b[1;33m,\u001b[0m \u001b[0mstep_reward_history\u001b[0m\u001b[1;33m)\u001b[0m\u001b[1;33m\u001b[0m\u001b[1;33m\u001b[0m\u001b[0m\n\u001b[0m\u001b[0;32m     53\u001b[0m \u001b[1;33m\u001b[0m\u001b[0m\n\u001b[0;32m     54\u001b[0m     \u001b[1;32mif\u001b[0m \u001b[0mepisode\u001b[0m \u001b[1;33m%\u001b[0m \u001b[0mLOG_INTERVAL\u001b[0m \u001b[1;33m==\u001b[0m \u001b[1;36m0\u001b[0m\u001b[1;33m:\u001b[0m\u001b[1;33m\u001b[0m\u001b[1;33m\u001b[0m\u001b[0m\n",
      "\u001b[1;32mD:\\KailashDN-GitHub\\Deep_Reinforcement_Learning_Gym\\Policy_Gradient\\policy_agent.py\u001b[0m in \u001b[0;36mupdate\u001b[1;34m(self, log_prob_history, rewards)\u001b[0m\n\u001b[0;32m     48\u001b[0m         \u001b[0mself\u001b[0m\u001b[1;33m.\u001b[0m\u001b[0moptimizer\u001b[0m\u001b[1;33m.\u001b[0m\u001b[0mzero_grad\u001b[0m\u001b[1;33m(\u001b[0m\u001b[1;33m)\u001b[0m\u001b[1;33m\u001b[0m\u001b[1;33m\u001b[0m\u001b[0m\n\u001b[0;32m     49\u001b[0m         \u001b[0mpolicy_loss\u001b[0m \u001b[1;33m=\u001b[0m \u001b[0mtorch\u001b[0m\u001b[1;33m.\u001b[0m\u001b[0mcat\u001b[0m\u001b[1;33m(\u001b[0m\u001b[0mpolicy_loss\u001b[0m\u001b[1;33m)\u001b[0m\u001b[1;33m.\u001b[0m\u001b[0msum\u001b[0m\u001b[1;33m(\u001b[0m\u001b[1;33m)\u001b[0m\u001b[1;33m.\u001b[0m\u001b[0mto\u001b[0m\u001b[1;33m(\u001b[0m\u001b[0mself\u001b[0m\u001b[1;33m.\u001b[0m\u001b[0mdevice\u001b[0m\u001b[1;33m)\u001b[0m\u001b[1;33m\u001b[0m\u001b[1;33m\u001b[0m\u001b[0m\n\u001b[1;32m---> 50\u001b[1;33m         \u001b[0mpolicy_loss\u001b[0m\u001b[1;33m.\u001b[0m\u001b[0mbackward\u001b[0m\u001b[1;33m(\u001b[0m\u001b[1;33m)\u001b[0m\u001b[1;33m\u001b[0m\u001b[1;33m\u001b[0m\u001b[0m\n\u001b[0m\u001b[0;32m     51\u001b[0m         \u001b[0mself\u001b[0m\u001b[1;33m.\u001b[0m\u001b[0moptimizer\u001b[0m\u001b[1;33m.\u001b[0m\u001b[0mstep\u001b[0m\u001b[1;33m(\u001b[0m\u001b[1;33m)\u001b[0m\u001b[1;33m\u001b[0m\u001b[1;33m\u001b[0m\u001b[0m\n\u001b[0;32m     52\u001b[0m \u001b[1;33m\u001b[0m\u001b[0m\n",
      "\u001b[1;32mC:\\Users\\kaila\\Anaconda3\\envs\\RL_GPU_TORCH\\lib\\site-packages\\torch\\tensor.py\u001b[0m in \u001b[0;36mbackward\u001b[1;34m(self, gradient, retain_graph, create_graph)\u001b[0m\n\u001b[0;32m    196\u001b[0m                 \u001b[0mproducts\u001b[0m\u001b[1;33m.\u001b[0m \u001b[0mDefaults\u001b[0m \u001b[0mto\u001b[0m\u001b[0;31m \u001b[0m\u001b[0;31m`\u001b[0m\u001b[0;31m`\u001b[0m\u001b[1;32mFalse\u001b[0m\u001b[0;31m`\u001b[0m\u001b[0;31m`\u001b[0m\u001b[1;33m.\u001b[0m\u001b[1;33m\u001b[0m\u001b[1;33m\u001b[0m\u001b[0m\n\u001b[0;32m    197\u001b[0m         \"\"\"\n\u001b[1;32m--> 198\u001b[1;33m         \u001b[0mtorch\u001b[0m\u001b[1;33m.\u001b[0m\u001b[0mautograd\u001b[0m\u001b[1;33m.\u001b[0m\u001b[0mbackward\u001b[0m\u001b[1;33m(\u001b[0m\u001b[0mself\u001b[0m\u001b[1;33m,\u001b[0m \u001b[0mgradient\u001b[0m\u001b[1;33m,\u001b[0m \u001b[0mretain_graph\u001b[0m\u001b[1;33m,\u001b[0m \u001b[0mcreate_graph\u001b[0m\u001b[1;33m)\u001b[0m\u001b[1;33m\u001b[0m\u001b[1;33m\u001b[0m\u001b[0m\n\u001b[0m\u001b[0;32m    199\u001b[0m \u001b[1;33m\u001b[0m\u001b[0m\n\u001b[0;32m    200\u001b[0m     \u001b[1;32mdef\u001b[0m \u001b[0mregister_hook\u001b[0m\u001b[1;33m(\u001b[0m\u001b[0mself\u001b[0m\u001b[1;33m,\u001b[0m \u001b[0mhook\u001b[0m\u001b[1;33m)\u001b[0m\u001b[1;33m:\u001b[0m\u001b[1;33m\u001b[0m\u001b[1;33m\u001b[0m\u001b[0m\n",
      "\u001b[1;32mC:\\Users\\kaila\\Anaconda3\\envs\\RL_GPU_TORCH\\lib\\site-packages\\torch\\autograd\\__init__.py\u001b[0m in \u001b[0;36mbackward\u001b[1;34m(tensors, grad_tensors, retain_graph, create_graph, grad_variables)\u001b[0m\n\u001b[0;32m     98\u001b[0m     Variable._execution_engine.run_backward(\n\u001b[0;32m     99\u001b[0m         \u001b[0mtensors\u001b[0m\u001b[1;33m,\u001b[0m \u001b[0mgrad_tensors\u001b[0m\u001b[1;33m,\u001b[0m \u001b[0mretain_graph\u001b[0m\u001b[1;33m,\u001b[0m \u001b[0mcreate_graph\u001b[0m\u001b[1;33m,\u001b[0m\u001b[1;33m\u001b[0m\u001b[1;33m\u001b[0m\u001b[0m\n\u001b[1;32m--> 100\u001b[1;33m         allow_unreachable=True)  # allow_unreachable flag\n\u001b[0m\u001b[0;32m    101\u001b[0m \u001b[1;33m\u001b[0m\u001b[0m\n\u001b[0;32m    102\u001b[0m \u001b[1;33m\u001b[0m\u001b[0m\n",
      "\u001b[1;31mRuntimeError\u001b[0m: CUDA out of memory. Tried to allocate 172.00 MiB (GPU 0; 4.00 GiB total capacity; 2.63 GiB already allocated; 142.38 MiB free; 2.78 GiB reserved in total by PyTorch) (malloc at ..\\c10\\cuda\\CUDACachingAllocator.cpp:289)\n(no backtrace available)"
     ]
    }
   ],
   "source": [
    "reward_history = []\n",
    "reward_mean_history = [0]\n",
    "\n",
    "step_log_prob_history = []\n",
    "step_reward_history = []\n",
    "\n",
    "# save one example warped image for preview\n",
    "state = env.reset()\n",
    "cv2.imwrite(\"exampleImage.jpg\", np.asarray(state))\n",
    "\n",
    "for episode in range(1, NUM_EPOCHS):\n",
    "    torch.cuda.memory_summary(device=None, abbreviated=False)\n",
    "    state, last_reward = lazy_frame_to_tensor(env.reset()), 0\n",
    "\n",
    "    for step in count():\n",
    "        # perform an action\n",
    "        action, log_prob = agent.select_action_based_on_state(state)\n",
    "        step_log_prob_history.append(log_prob)\n",
    "        # delete the last state to prevent memory overflow\n",
    "        del state\n",
    "        state, reward, done, info = env.step(action)\n",
    "\n",
    "        if done and reward < 0:\n",
    "            # if we died the reward will be less than zero\n",
    "            step_reward_history.append(reward)\n",
    "\n",
    "            last_reward += reward\n",
    "            reward_history.append(last_reward)\n",
    "            if episode >= 49:\n",
    "                reward_mean_history.append(np.mean(reward_history))\n",
    "            break\n",
    "\n",
    "        if done and reward > 0:\n",
    "            # if we solved the current level give mario the highest possible reward of 15\n",
    "            step_reward_history.append(15)\n",
    "\n",
    "            last_reward += 15\n",
    "            reward_history.append(last_reward)\n",
    "            if episode >= 49:\n",
    "                reward_mean_history.append(np.mean(reward_history))\n",
    "            print(\"Finished the level\")\n",
    "            break\n",
    "\n",
    "        state = lazy_frame_to_tensor(state)\n",
    "\n",
    "        if RENDER_GAME:\n",
    "            env.render()\n",
    "\n",
    "        step_reward_history.append(reward)\n",
    "        last_reward += reward\n",
    "\n",
    "    loss = agent.update(step_log_prob_history, step_reward_history)\n",
    "\n",
    "    if episode % LOG_INTERVAL == 0:\n",
    "        print(\"Episode {}\\tLast Reward: {:.2f}\\tAverage reward: {:.2f}\\tLoss: {:.2f}\".format(episode, last_reward,\n",
    "                                                                                             reward_mean_history[-1],\n",
    "                                                                                             loss))\n",
    "\n",
    "    if episode % PLOT_INTERVAL == 0:\n",
    "        plot_rewards(reward_history, reward_mean_history)\n",
    "    # if episode % VIDEO_INTERVAL == 0:\n",
    "    if last_reward >= 1400:\n",
    "        record_one_episode(agent, episode)\n",
    "    if episode % CHECKPOINT_INTERVAL == 0:\n",
    "        agent.save_model(model_path=MODEL_PATH)\n",
    "    del loss\n",
    "    del step_reward_history[:]\n",
    "    del step_reward_history[:]\n",
    "    step_reward_history = []\n",
    "    step_log_prob_history = []"
   ]
  },
  {
   "cell_type": "code",
   "execution_count": null,
   "metadata": {},
   "outputs": [],
   "source": []
  }
 ],
 "metadata": {
  "kernelspec": {
   "display_name": "RL_GPU_TOURCH",
   "language": "python",
   "name": "rl_gpu_tourch"
  },
  "language_info": {
   "codemirror_mode": {
    "name": "ipython",
    "version": 3
   },
   "file_extension": ".py",
   "mimetype": "text/x-python",
   "name": "python",
   "nbconvert_exporter": "python",
   "pygments_lexer": "ipython3",
   "version": "3.6.12"
  }
 },
 "nbformat": 4,
 "nbformat_minor": 1
}
