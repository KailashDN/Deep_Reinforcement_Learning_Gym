{
 "cells": [
  {
   "cell_type": "code",
   "execution_count": 1,
   "metadata": {},
   "outputs": [],
   "source": [
    "import sys\n",
    "from itertools import count\n",
    "\n",
    "import cv2\n",
    "import gym_super_mario_bros\n",
    "from gym.wrappers import Monitor\n",
    "from gym_super_mario_bros.actions import SIMPLE_MOVEMENT, COMPLEX_MOVEMENT, RIGHT_ONLY\n",
    "from nes_py.wrappers import JoypadSpace\n",
    "\n",
    "import matplotlib.pyplot as plt\n",
    "import numpy as np\n",
    "import torch\n",
    "\n",
    "from policy_agent import Agent\n",
    "from wrappers import wrapper"
   ]
  },
  {
   "cell_type": "code",
   "execution_count": 2,
   "metadata": {},
   "outputs": [],
   "source": [
    "# env settings\n",
    "WORLD = 1\n",
    "STAGE = 1\n",
    "LEVEL_NAME = \"SuperMarioBros-{}-{}-v0\".format(WORLD, STAGE)\n",
    "FRAME_DIM = (84, 84, 4)     # (120, 128, 4)  # original image size is 240x256\n",
    "ACTION_SPACE = SIMPLE_MOVEMENT\n",
    "RENDER_GAME = True\n",
    "LOAD_MODEL = False\n",
    "CHECKPOINT_INTERVAL = 100\n",
    "MODEL_PATH = \"./saved_models/policy_gradient_model_world1-1\"  # to create a new model set it to \"\"\n",
    "\n",
    "# training hyperparameters\n",
    "TRAIN_MODEL = True\n",
    "LEARNING_RATE = 0.000007\n",
    "NUM_EPOCHS = 1_001\n",
    "GAMMA = 0.99\n",
    "\n",
    "LOG_INTERVAL = 1\n",
    "PLOT_INTERVAL = 50\n",
    "VIDEO_INTERVAL = 50"
   ]
  },
  {
   "cell_type": "code",
   "execution_count": 3,
   "metadata": {},
   "outputs": [
    {
     "name": "stdout",
     "output_type": "stream",
     "text": [
      "Available GPU: GeForce GTX 1050 Ti with Max-Q Design\n"
     ]
    }
   ],
   "source": [
    "DEVICE = torch.device(\"cuda\" if torch.cuda.is_available() else \"cpu\")\n",
    "if torch.cuda.is_available():\n",
    "    print(f\"Available GPU: {torch.cuda.get_device_name(0)}\")"
   ]
  },
  {
   "cell_type": "code",
   "execution_count": 4,
   "metadata": {},
   "outputs": [],
   "source": [
    "def create_environment():\n",
    "    \"\"\"Creates the environment, applies some wrappers and returns it.\"\"\"\n",
    "    tmp_env = gym_super_mario_bros.make(LEVEL_NAME)\n",
    "    tmp_env = JoypadSpace(tmp_env, ACTION_SPACE)\n",
    "    tmp_env = wrapper(tmp_env, FRAME_DIM)\n",
    "\n",
    "    return tmp_env"
   ]
  },
  {
   "cell_type": "code",
   "execution_count": 5,
   "metadata": {},
   "outputs": [],
   "source": [
    "def lazy_frame_to_tensor(lazy_frame):\n",
    "    # pytorch expects the frames as height x width x depth\n",
    "    return torch.from_numpy(\n",
    "        np.expand_dims(np.asarray(lazy_frame).astype(np.float64).transpose((2, 1, 0)), axis=0)).float().to(DEVICE)\n"
   ]
  },
  {
   "cell_type": "code",
   "execution_count": 6,
   "metadata": {},
   "outputs": [],
   "source": [
    "def plot_rewards(reward_list, reward_mean_history):\n",
    "    plt.figure(figsize=(12,6))\n",
    "    plt.plot(reward_list, \"#b300ff\", label = \"Reward History\")\n",
    "    plt.plot(reward_mean_history, \"#ff8c00\", label = \"Mean Reward History\")\n",
    "    plt.ylabel(\"Rewards\", fontsize = 18)\n",
    "    plt.xlabel(\"Episodes\",fontsize = 18)\n",
    "    plt.title(\"Reward Per Episode\", fontsize = 18)\n",
    "    plt.legend()\n",
    "    plt.show()\n"
   ]
  },
  {
   "cell_type": "code",
   "execution_count": 7,
   "metadata": {},
   "outputs": [],
   "source": [
    "def record_one_episode(agent, episode):\n",
    "    tmp_env = gym_super_mario_bros.make(LEVEL_NAME)\n",
    "    tmp_env = JoypadSpace(tmp_env, ACTION_SPACE)\n",
    "    tmp_env = Monitor(tmp_env, './video/video-episode-{0:05d}'.format(episode), force=True)\n",
    "    tmp_env = wrapper(tmp_env, FRAME_DIM)\n",
    "\n",
    "    state = lazy_frame_to_tensor(tmp_env.reset())\n",
    "\n",
    "    total_reward = 0\n",
    "    while True:\n",
    "        action, _ = agent.select_action_based_on_state(state)\n",
    "\n",
    "        next_state, reward, done, info = tmp_env.step(action)\n",
    "        next_state = lazy_frame_to_tensor(next_state)\n",
    "\n",
    "        if done:\n",
    "            break\n",
    "\n",
    "        total_reward += reward\n",
    "\n",
    "        state = next_state\n"
   ]
  },
  {
   "cell_type": "code",
   "execution_count": 8,
   "metadata": {},
   "outputs": [],
   "source": [
    "env = create_environment()\n",
    "\n",
    "agent = Agent(env.action_space.n, FRAME_DIM, LEARNING_RATE, GAMMA, DEVICE, MODEL_PATH)\n",
    "if LOAD_MODEL:\n",
    "    agent.load_model(model_path=MODEL_PATH)\n",
    "\n",
    "if not TRAIN_MODEL:\n",
    "    record_one_episode(agent)\n",
    "    sys.exit()"
   ]
  },
  {
   "cell_type": "code",
   "execution_count": 9,
   "metadata": {
    "scrolled": false
   },
   "outputs": [
    {
     "name": "stdout",
     "output_type": "stream",
     "text": [
      "Episode 1\tLast Reward: 620.00\tAverage reward: 0.00\tLoss: 1.74\n",
      "Episode 2\tLast Reward: 558.00\tAverage reward: 0.00\tLoss: 1.38\n",
      "Episode 3\tLast Reward: 721.00\tAverage reward: 0.00\tLoss: 1.09\n",
      "Episode 4\tLast Reward: 1553.00\tAverage reward: 0.00\tLoss: -7.78\n",
      "Episode 5\tLast Reward: 719.00\tAverage reward: 0.00\tLoss: -13.25\n",
      "Episode 6\tLast Reward: 847.00\tAverage reward: 0.00\tLoss: 3.60\n",
      "Episode 7\tLast Reward: 743.00\tAverage reward: 0.00\tLoss: 0.61\n",
      "Episode 8\tLast Reward: 230.00\tAverage reward: 0.00\tLoss: 4.39\n",
      "Episode 9\tLast Reward: 750.00\tAverage reward: 0.00\tLoss: -6.15\n",
      "Episode 10\tLast Reward: 231.00\tAverage reward: 0.00\tLoss: -5.94\n",
      "Episode 11\tLast Reward: 595.00\tAverage reward: 0.00\tLoss: 22.01\n",
      "Episode 12\tLast Reward: 701.00\tAverage reward: 0.00\tLoss: 6.61\n",
      "Episode 13\tLast Reward: 727.00\tAverage reward: 0.00\tLoss: -10.05\n",
      "Episode 14\tLast Reward: 733.00\tAverage reward: 0.00\tLoss: -28.57\n",
      "Episode 15\tLast Reward: 761.00\tAverage reward: 0.00\tLoss: -36.10\n",
      "Episode 16\tLast Reward: 1242.00\tAverage reward: 0.00\tLoss: 20.51\n",
      "Episode 17\tLast Reward: 605.00\tAverage reward: 0.00\tLoss: -16.68\n",
      "Episode 18\tLast Reward: 249.00\tAverage reward: 0.00\tLoss: -7.53\n",
      "Episode 19\tLast Reward: 229.00\tAverage reward: 0.00\tLoss: -22.31\n",
      "Episode 20\tLast Reward: 637.00\tAverage reward: 0.00\tLoss: -21.91\n"
     ]
    },
    {
     "ename": "RuntimeError",
     "evalue": "CUDA out of memory. Tried to allocate 2.00 MiB (GPU 0; 4.00 GiB total capacity; 2.75 GiB already allocated; 1.38 MiB free; 2.91 GiB reserved in total by PyTorch)",
     "output_type": "error",
     "traceback": [
      "\u001b[1;31m---------------------------------------------------------------------------\u001b[0m",
      "\u001b[1;31mRuntimeError\u001b[0m                              Traceback (most recent call last)",
      "\u001b[1;32m<ipython-input-9-50b8bbc6b929>\u001b[0m in \u001b[0;36m<module>\u001b[1;34m()\u001b[0m\n\u001b[0;32m     16\u001b[0m     \u001b[1;32mfor\u001b[0m \u001b[0mstep\u001b[0m \u001b[1;32min\u001b[0m \u001b[0mcount\u001b[0m\u001b[1;33m(\u001b[0m\u001b[1;33m)\u001b[0m\u001b[1;33m:\u001b[0m\u001b[1;33m\u001b[0m\u001b[1;33m\u001b[0m\u001b[0m\n\u001b[0;32m     17\u001b[0m         \u001b[1;31m# perform an action\u001b[0m\u001b[1;33m\u001b[0m\u001b[1;33m\u001b[0m\u001b[1;33m\u001b[0m\u001b[0m\n\u001b[1;32m---> 18\u001b[1;33m         \u001b[0maction\u001b[0m\u001b[1;33m,\u001b[0m \u001b[0mlog_prob\u001b[0m \u001b[1;33m=\u001b[0m \u001b[0magent\u001b[0m\u001b[1;33m.\u001b[0m\u001b[0mselect_action_based_on_state\u001b[0m\u001b[1;33m(\u001b[0m\u001b[0mstate\u001b[0m\u001b[1;33m)\u001b[0m\u001b[1;33m\u001b[0m\u001b[1;33m\u001b[0m\u001b[0m\n\u001b[0m\u001b[0;32m     19\u001b[0m         \u001b[0mstep_log_prob_history\u001b[0m\u001b[1;33m.\u001b[0m\u001b[0mappend\u001b[0m\u001b[1;33m(\u001b[0m\u001b[0mlog_prob\u001b[0m\u001b[1;33m)\u001b[0m\u001b[1;33m\u001b[0m\u001b[1;33m\u001b[0m\u001b[0m\n\u001b[0;32m     20\u001b[0m         \u001b[1;31m# delete the last state to prevent memory overflow\u001b[0m\u001b[1;33m\u001b[0m\u001b[1;33m\u001b[0m\u001b[1;33m\u001b[0m\u001b[0m\n",
      "\u001b[1;32mD:\\KailashDN-GitHub\\Deep_Reinforcement_Learning_Gym\\Policy_Gradient\\policy_agent.py\u001b[0m in \u001b[0;36mselect_action_based_on_state\u001b[1;34m(self, state)\u001b[0m\n\u001b[0;32m     23\u001b[0m         \u001b[1;34m\"\"\"Returns the sampled action and the log of the probability density.\"\"\"\u001b[0m\u001b[1;33m\u001b[0m\u001b[1;33m\u001b[0m\u001b[0m\n\u001b[0;32m     24\u001b[0m         \u001b[1;31m# get the probability distribution of the prediction\u001b[0m\u001b[1;33m\u001b[0m\u001b[1;33m\u001b[0m\u001b[1;33m\u001b[0m\u001b[0m\n\u001b[1;32m---> 25\u001b[1;33m         \u001b[0mpred_action_probs\u001b[0m \u001b[1;33m=\u001b[0m \u001b[0mself\u001b[0m\u001b[1;33m.\u001b[0m\u001b[0mmodel\u001b[0m\u001b[1;33m.\u001b[0m\u001b[0mforward\u001b[0m\u001b[1;33m(\u001b[0m\u001b[0mstate\u001b[0m\u001b[1;33m)\u001b[0m\u001b[1;33m\u001b[0m\u001b[1;33m\u001b[0m\u001b[0m\n\u001b[0m\u001b[0;32m     26\u001b[0m         \u001b[0mpred_action_dist\u001b[0m \u001b[1;33m=\u001b[0m \u001b[0mCategorical\u001b[0m\u001b[1;33m(\u001b[0m\u001b[0mpred_action_probs\u001b[0m\u001b[1;33m)\u001b[0m\u001b[1;33m\u001b[0m\u001b[1;33m\u001b[0m\u001b[0m\n\u001b[0;32m     27\u001b[0m \u001b[1;33m\u001b[0m\u001b[0m\n",
      "\u001b[1;32mD:\\KailashDN-GitHub\\Deep_Reinforcement_Learning_Gym\\Policy_Gradient\\policy_model.py\u001b[0m in \u001b[0;36mforward\u001b[1;34m(self, x)\u001b[0m\n\u001b[0;32m     49\u001b[0m \u001b[1;33m\u001b[0m\u001b[0m\n\u001b[0;32m     50\u001b[0m     \u001b[1;32mdef\u001b[0m \u001b[0mforward\u001b[0m\u001b[1;33m(\u001b[0m\u001b[0mself\u001b[0m\u001b[1;33m,\u001b[0m \u001b[0mx\u001b[0m\u001b[1;33m)\u001b[0m\u001b[1;33m:\u001b[0m\u001b[1;33m\u001b[0m\u001b[1;33m\u001b[0m\u001b[0m\n\u001b[1;32m---> 51\u001b[1;33m         \u001b[0mout\u001b[0m \u001b[1;33m=\u001b[0m \u001b[0mself\u001b[0m\u001b[1;33m.\u001b[0m\u001b[0mconv1\u001b[0m\u001b[1;33m(\u001b[0m\u001b[0mx\u001b[0m\u001b[1;33m)\u001b[0m\u001b[1;33m\u001b[0m\u001b[1;33m\u001b[0m\u001b[0m\n\u001b[0m\u001b[0;32m     52\u001b[0m         \u001b[0mout\u001b[0m \u001b[1;33m=\u001b[0m \u001b[0mF\u001b[0m\u001b[1;33m.\u001b[0m\u001b[0melu\u001b[0m\u001b[1;33m(\u001b[0m\u001b[0mself\u001b[0m\u001b[1;33m.\u001b[0m\u001b[0mconv1_bn\u001b[0m\u001b[1;33m(\u001b[0m\u001b[0mout\u001b[0m\u001b[1;33m)\u001b[0m\u001b[1;33m)\u001b[0m\u001b[1;33m\u001b[0m\u001b[1;33m\u001b[0m\u001b[0m\n\u001b[0;32m     53\u001b[0m \u001b[1;33m\u001b[0m\u001b[0m\n",
      "\u001b[1;32mC:\\Users\\kaila\\Anaconda3\\envs\\RL_GPU_TORCH\\lib\\site-packages\\torch\\nn\\modules\\module.py\u001b[0m in \u001b[0;36m__call__\u001b[1;34m(self, *input, **kwargs)\u001b[0m\n\u001b[0;32m    548\u001b[0m             \u001b[0mresult\u001b[0m \u001b[1;33m=\u001b[0m \u001b[0mself\u001b[0m\u001b[1;33m.\u001b[0m\u001b[0m_slow_forward\u001b[0m\u001b[1;33m(\u001b[0m\u001b[1;33m*\u001b[0m\u001b[0minput\u001b[0m\u001b[1;33m,\u001b[0m \u001b[1;33m**\u001b[0m\u001b[0mkwargs\u001b[0m\u001b[1;33m)\u001b[0m\u001b[1;33m\u001b[0m\u001b[1;33m\u001b[0m\u001b[0m\n\u001b[0;32m    549\u001b[0m         \u001b[1;32melse\u001b[0m\u001b[1;33m:\u001b[0m\u001b[1;33m\u001b[0m\u001b[1;33m\u001b[0m\u001b[0m\n\u001b[1;32m--> 550\u001b[1;33m             \u001b[0mresult\u001b[0m \u001b[1;33m=\u001b[0m \u001b[0mself\u001b[0m\u001b[1;33m.\u001b[0m\u001b[0mforward\u001b[0m\u001b[1;33m(\u001b[0m\u001b[1;33m*\u001b[0m\u001b[0minput\u001b[0m\u001b[1;33m,\u001b[0m \u001b[1;33m**\u001b[0m\u001b[0mkwargs\u001b[0m\u001b[1;33m)\u001b[0m\u001b[1;33m\u001b[0m\u001b[1;33m\u001b[0m\u001b[0m\n\u001b[0m\u001b[0;32m    551\u001b[0m         \u001b[1;32mfor\u001b[0m \u001b[0mhook\u001b[0m \u001b[1;32min\u001b[0m \u001b[0mself\u001b[0m\u001b[1;33m.\u001b[0m\u001b[0m_forward_hooks\u001b[0m\u001b[1;33m.\u001b[0m\u001b[0mvalues\u001b[0m\u001b[1;33m(\u001b[0m\u001b[1;33m)\u001b[0m\u001b[1;33m:\u001b[0m\u001b[1;33m\u001b[0m\u001b[1;33m\u001b[0m\u001b[0m\n\u001b[0;32m    552\u001b[0m             \u001b[0mhook_result\u001b[0m \u001b[1;33m=\u001b[0m \u001b[0mhook\u001b[0m\u001b[1;33m(\u001b[0m\u001b[0mself\u001b[0m\u001b[1;33m,\u001b[0m \u001b[0minput\u001b[0m\u001b[1;33m,\u001b[0m \u001b[0mresult\u001b[0m\u001b[1;33m)\u001b[0m\u001b[1;33m\u001b[0m\u001b[1;33m\u001b[0m\u001b[0m\n",
      "\u001b[1;32mC:\\Users\\kaila\\Anaconda3\\envs\\RL_GPU_TORCH\\lib\\site-packages\\torch\\nn\\modules\\conv.py\u001b[0m in \u001b[0;36mforward\u001b[1;34m(self, input)\u001b[0m\n\u001b[0;32m    351\u001b[0m \u001b[1;33m\u001b[0m\u001b[0m\n\u001b[0;32m    352\u001b[0m     \u001b[1;32mdef\u001b[0m \u001b[0mforward\u001b[0m\u001b[1;33m(\u001b[0m\u001b[0mself\u001b[0m\u001b[1;33m,\u001b[0m \u001b[0minput\u001b[0m\u001b[1;33m)\u001b[0m\u001b[1;33m:\u001b[0m\u001b[1;33m\u001b[0m\u001b[1;33m\u001b[0m\u001b[0m\n\u001b[1;32m--> 353\u001b[1;33m         \u001b[1;32mreturn\u001b[0m \u001b[0mself\u001b[0m\u001b[1;33m.\u001b[0m\u001b[0m_conv_forward\u001b[0m\u001b[1;33m(\u001b[0m\u001b[0minput\u001b[0m\u001b[1;33m,\u001b[0m \u001b[0mself\u001b[0m\u001b[1;33m.\u001b[0m\u001b[0mweight\u001b[0m\u001b[1;33m)\u001b[0m\u001b[1;33m\u001b[0m\u001b[1;33m\u001b[0m\u001b[0m\n\u001b[0m\u001b[0;32m    354\u001b[0m \u001b[1;33m\u001b[0m\u001b[0m\n\u001b[0;32m    355\u001b[0m \u001b[1;32mclass\u001b[0m \u001b[0mConv3d\u001b[0m\u001b[1;33m(\u001b[0m\u001b[0m_ConvNd\u001b[0m\u001b[1;33m)\u001b[0m\u001b[1;33m:\u001b[0m\u001b[1;33m\u001b[0m\u001b[1;33m\u001b[0m\u001b[0m\n",
      "\u001b[1;32mC:\\Users\\kaila\\Anaconda3\\envs\\RL_GPU_TORCH\\lib\\site-packages\\torch\\nn\\modules\\conv.py\u001b[0m in \u001b[0;36m_conv_forward\u001b[1;34m(self, input, weight)\u001b[0m\n\u001b[0;32m    348\u001b[0m                             _pair(0), self.dilation, self.groups)\n\u001b[0;32m    349\u001b[0m         return F.conv2d(input, weight, self.bias, self.stride,\n\u001b[1;32m--> 350\u001b[1;33m                         self.padding, self.dilation, self.groups)\n\u001b[0m\u001b[0;32m    351\u001b[0m \u001b[1;33m\u001b[0m\u001b[0m\n\u001b[0;32m    352\u001b[0m     \u001b[1;32mdef\u001b[0m \u001b[0mforward\u001b[0m\u001b[1;33m(\u001b[0m\u001b[0mself\u001b[0m\u001b[1;33m,\u001b[0m \u001b[0minput\u001b[0m\u001b[1;33m)\u001b[0m\u001b[1;33m:\u001b[0m\u001b[1;33m\u001b[0m\u001b[1;33m\u001b[0m\u001b[0m\n",
      "\u001b[1;31mRuntimeError\u001b[0m: CUDA out of memory. Tried to allocate 2.00 MiB (GPU 0; 4.00 GiB total capacity; 2.75 GiB already allocated; 1.38 MiB free; 2.91 GiB reserved in total by PyTorch)"
     ]
    }
   ],
   "source": [
    "reward_history = []\n",
    "reward_mean_history = [0]\n",
    "\n",
    "step_log_prob_history = []\n",
    "step_reward_history = []\n",
    "\n",
    "# save one example warped image for preview\n",
    "state = env.reset()\n",
    "cv2.imwrite(\"exampleImage.jpg\", np.asarray(state))\n",
    "\n",
    "for episode in range(1, NUM_EPOCHS):\n",
    "    torch.cuda.memory_summary(device=None, abbreviated=False)\n",
    "    state, last_reward = lazy_frame_to_tensor(env.reset()), 0\n",
    "    if episode % 100 == 0:\n",
    "        torch.cuda.empty_cache()\n",
    "    for step in count():\n",
    "        # perform an action\n",
    "        action, log_prob = agent.select_action_based_on_state(state)\n",
    "        step_log_prob_history.append(log_prob)\n",
    "        # delete the last state to prevent memory overflow\n",
    "        del state\n",
    "        state, reward, done, info = env.step(action)\n",
    "\n",
    "        if done and reward < 0:\n",
    "            # if we died the reward will be less than zero\n",
    "            step_reward_history.append(reward)\n",
    "\n",
    "            last_reward += reward\n",
    "            reward_history.append(last_reward)\n",
    "            if episode >= 25:\n",
    "                reward_mean_history.append(np.mean(reward_history))\n",
    "            break\n",
    "\n",
    "        if done and reward > 0:\n",
    "            # if we solved the current level give mario the highest possible reward of 15\n",
    "            step_reward_history.append(15)\n",
    "\n",
    "            last_reward += 15\n",
    "            reward_history.append(last_reward)\n",
    "            if episode >= 25:\n",
    "                reward_mean_history.append(np.mean(reward_history))\n",
    "            print(\"Finished the level\")\n",
    "            break\n",
    "\n",
    "        state = lazy_frame_to_tensor(state)\n",
    "\n",
    "        if RENDER_GAME:\n",
    "            env.render()\n",
    "\n",
    "        step_reward_history.append(reward)\n",
    "        last_reward += reward\n",
    "\n",
    "    loss = agent.update(step_log_prob_history, step_reward_history)\n",
    "\n",
    "    if episode % LOG_INTERVAL == 0:\n",
    "        print(\"Episode {}\\tLast Reward: {:.2f}\\tAverage reward: {:.2f}\\tLoss: {:.2f}\".format(episode, last_reward,\n",
    "                                                                                             reward_mean_history[-1],\n",
    "                                                                                             loss))\n",
    "\n",
    "    if episode % PLOT_INTERVAL == 0:\n",
    "        plot_rewards(reward_history, reward_mean_history)\n",
    "    # if episode % VIDEO_INTERVAL == 0:\n",
    "    if last_reward >= 1800:\n",
    "        print(f\"Saving Video for reward: {last_reward} at episode:{episode}\")\n",
    "        record_one_episode(agent, episode)\n",
    "    if episode % CHECKPOINT_INTERVAL == 0:\n",
    "        agent.save_model(model_path=MODEL_PATH)\n",
    "    del loss\n",
    "    del step_reward_history[:]\n",
    "    del step_reward_history[:]\n",
    "    step_reward_history = []\n",
    "    step_log_prob_history = []"
   ]
  },
  {
   "cell_type": "code",
   "execution_count": null,
   "metadata": {},
   "outputs": [],
   "source": []
  }
 ],
 "metadata": {
  "kernelspec": {
   "display_name": "RL_GPU_TOURCH",
   "language": "python",
   "name": "rl_gpu_tourch"
  },
  "language_info": {
   "codemirror_mode": {
    "name": "ipython",
    "version": 3
   },
   "file_extension": ".py",
   "mimetype": "text/x-python",
   "name": "python",
   "nbconvert_exporter": "python",
   "pygments_lexer": "ipython3",
   "version": "3.6.12"
  }
 },
 "nbformat": 4,
 "nbformat_minor": 1
}
