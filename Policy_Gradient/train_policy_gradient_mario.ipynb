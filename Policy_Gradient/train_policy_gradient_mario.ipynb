{
 "cells": [
  {
   "cell_type": "code",
   "execution_count": null,
   "metadata": {
    "collapsed": true
   },
   "outputs": [],
   "source": [
    "import sys\n",
    "from itertools import count\n",
    "\n",
    "import cv2\n",
    "import gym_super_mario_bros\n",
    "from gym.wrappers import Monitor\n",
    "from gym_super_mario_bros.actions import SIMPLE_MOVEMENT, COMPLEX_MOVEMENT, RIGHT_ONLY\n",
    "from nes_py.wrappers import JoypadSpace\n",
    "\n",
    "import matplotlib.pyplot as plt\n",
    "import numpy as np\n",
    "import torch\n",
    "\n",
    "from Policy_Gradient.policy_agent import Agent\n",
    "from wrappers import wrapper"
   ]
  },
  {
   "cell_type": "code",
   "execution_count": null,
   "metadata": {},
   "outputs": [],
   "source": [
    "# env settings\n",
    "WORLD = 1\n",
    "STAGE = 1\n",
    "LEVEL_NAME = \"SuperMarioBros-{}-{}-v0\".format(WORLD, STAGE)\n",
    "FRAME_DIM = (84, 84, 4)     # (120, 128, 4)  # original image size is 240x256\n",
    "ACTION_SPACE = SIMPLE_MOVEMENT\n",
    "RENDER_GAME = True\n",
    "LOAD_MODEL = False\n",
    "CHECKPOINT_INTERVAL = 10\n",
    "MODEL_PATH = \"./saved_models/policy_gradient_model_world1-1\"  # to create a new model set it to \"\"\n",
    "\n",
    "# training hyperparameters\n",
    "TRAIN_MODEL = True\n",
    "LEARNING_RATE = 0.000007\n",
    "NUM_EPOCHS = 1_001\n",
    "GAMMA = 0.99\n",
    "\n",
    "LOG_INTERVAL = 1\n",
    "PLOT_INTERVAL = 10\n",
    "VIDEO_INTERVAL = 10"
   ]
  },
  {
   "cell_type": "code",
   "execution_count": null,
   "metadata": {},
   "outputs": [],
   "source": [
    "DEVICE = torch.device(\"cuda\" if torch.cuda.is_available() else \"cpu\")\n",
    "if torch.cuda.is_available():\n",
    "    print(f\"Available GPU: {torch.cuda.get_device_name(0)}\")"
   ]
  },
  {
   "cell_type": "code",
   "execution_count": null,
   "metadata": {},
   "outputs": [],
   "source": [
    "def create_environment():\n",
    "    \"\"\"Creates the environment, applies some wrappers and returns it.\"\"\"\n",
    "    tmp_env = gym_super_mario_bros.make(LEVEL_NAME)\n",
    "    tmp_env = JoypadSpace(tmp_env, ACTION_SPACE)\n",
    "    tmp_env = wrapper(tmp_env, FRAME_DIM)\n",
    "\n",
    "    return tmp_env"
   ]
  },
  {
   "cell_type": "code",
   "execution_count": null,
   "metadata": {},
   "outputs": [],
   "source": [
    "def lazy_frame_to_tensor(lazy_frame):\n",
    "    # pytorch expects the frames as height x width x depth\n",
    "    return torch.from_numpy(\n",
    "        np.expand_dims(np.asarray(lazy_frame).astype(np.float64).transpose((2, 1, 0)), axis=0)).float().to(DEVICE)\n"
   ]
  },
  {
   "cell_type": "code",
   "execution_count": null,
   "metadata": {},
   "outputs": [],
   "source": [
    "def plot_rewards(reward_list, reward_mean_history):\n",
    "    plt.figure(figsize=(12,6))\n",
    "    plt.plot(reward_list, \"b-\", reward_mean_history, \"r-\")\n",
    "    plt.ylabel(\"Rewards\")\n",
    "    plt.xlabel(\"Episodes\")\n",
    "    plt.show()\n"
   ]
  },
  {
   "cell_type": "code",
   "execution_count": null,
   "metadata": {},
   "outputs": [],
   "source": [
    "def record_one_episode(agent, episode):\n",
    "    tmp_env = gym_super_mario_bros.make(LEVEL_NAME)\n",
    "    tmp_env = JoypadSpace(tmp_env, ACTION_SPACE)\n",
    "    tmp_env = Monitor(tmp_env, './video/video-episode-{0:05d}'.format(episode), force=True)\n",
    "    tmp_env = wrapper(tmp_env, FRAME_DIM)\n",
    "\n",
    "    state = lazy_frame_to_tensor(tmp_env.reset())\n",
    "\n",
    "    total_reward = 0\n",
    "    while True:\n",
    "        action, _ = agent.select_action_based_on_state(state)\n",
    "\n",
    "        next_state, reward, done, info = tmp_env.step(action)\n",
    "        next_state = lazy_frame_to_tensor(next_state)\n",
    "\n",
    "        if done:\n",
    "            break\n",
    "\n",
    "        total_reward += reward\n",
    "\n",
    "        state = next_state\n"
   ]
  },
  {
   "cell_type": "code",
   "execution_count": null,
   "metadata": {},
   "outputs": [],
   "source": [
    "env = create_environment()\n",
    "\n",
    "agent = Agent(env.action_space.n, FRAME_DIM, LEARNING_RATE, GAMMA, DEVICE, MODEL_PATH)\n",
    "if LOAD_MODEL:\n",
    "    agent.load_model(model_path=MODEL_PATH)\n",
    "\n",
    "if not TRAIN_MODEL:\n",
    "    record_one_episode(agent)\n",
    "    sys.exit()"
   ]
  },
  {
   "cell_type": "code",
   "execution_count": null,
   "metadata": {},
   "outputs": [],
   "source": [
    "reward_history = []\n",
    "reward_mean_history = [0]\n",
    "\n",
    "step_log_prob_history = []\n",
    "step_reward_history = []\n",
    "\n",
    "# save one example warped image for preview\n",
    "state = env.reset()\n",
    "cv2.imwrite(\"exampleImage.jpg\", np.asarray(state))\n",
    "\n",
    "for episode in range(1, NUM_EPOCHS):\n",
    "    torch.cuda.memory_summary(device=None, abbreviated=False)\n",
    "    state, last_reward = lazy_frame_to_tensor(env.reset()), 0\n",
    "\n",
    "    for step in count():\n",
    "        # perform an action\n",
    "        action, log_prob = agent.select_action_based_on_state(state)\n",
    "        step_log_prob_history.append(log_prob)\n",
    "        # delete the last state to prevent memory overflow\n",
    "        del state\n",
    "        state, reward, done, info = env.step(action)\n",
    "\n",
    "        if done and reward < 0:\n",
    "            # if we died the reward will be less than zero\n",
    "            step_reward_history.append(reward)\n",
    "\n",
    "            last_reward += reward\n",
    "            reward_history.append(last_reward)\n",
    "            if episode >= 100:\n",
    "                reward_mean_history.append(np.mean(reward_history))\n",
    "            break\n",
    "\n",
    "        if done and reward > 0:\n",
    "            # if we solved the current level give mario the highest possible reward of 15\n",
    "            step_reward_history.append(15)\n",
    "\n",
    "            last_reward += 15\n",
    "            reward_history.append(last_reward)\n",
    "            if episode >= 100:\n",
    "                reward_mean_history.append(np.mean(reward_history))\n",
    "            print(\"Finished the level\")\n",
    "            break\n",
    "\n",
    "        state = lazy_frame_to_tensor(state)\n",
    "\n",
    "        if RENDER_GAME:\n",
    "            env.render()\n",
    "\n",
    "        step_reward_history.append(reward)\n",
    "        last_reward += reward\n",
    "\n",
    "    loss = agent.update(step_log_prob_history, step_reward_history)\n",
    "\n",
    "    if episode % LOG_INTERVAL == 0:\n",
    "        print(\"Episode {}\\tLast Reward: {:.2f}\\tAverage reward: {:.2f}\\tLoss: {:.2f}\".format(episode, last_reward,\n",
    "                                                                                             reward_mean_history[-1],\n",
    "                                                                                             loss))\n",
    "\n",
    "    if episode % PLOT_INTERVAL == 0:\n",
    "        plot_rewards(reward_history, reward_mean_history)\n",
    "    # if episode % VIDEO_INTERVAL == 0:\n",
    "    if last_reward >= 1400:\n",
    "        record_one_episode(agent, episode)\n",
    "    if episode % CHECKPOINT_INTERVAL == 0:\n",
    "        agent.save_model(model_path=MODEL_PATH)\n",
    "    del loss\n",
    "    del step_reward_history[:]\n",
    "    del step_reward_history[:]\n",
    "    step_reward_history = []\n",
    "    step_log_prob_history = []"
   ]
  }
 ],
 "metadata": {
  "kernelspec": {
   "display_name": "Python 2",
   "language": "python",
   "name": "python2"
  },
  "language_info": {
   "codemirror_mode": {
    "name": "ipython",
    "version": 2
   },
   "file_extension": ".py",
   "mimetype": "text/x-python",
   "name": "python",
   "nbconvert_exporter": "python",
   "pygments_lexer": "ipython2",
   "version": "2.7.6"
  }
 },
 "nbformat": 4,
 "nbformat_minor": 0
}
